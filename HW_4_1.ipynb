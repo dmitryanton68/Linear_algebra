{
 "cells": [
  {
   "cell_type": "markdown",
   "metadata": {},
   "source": [
    "__1.__ Решить систему уравнений методом Гаусса:\n",
    "\n",
    "$$\\begin{cases}\n",
    "x_{1}+x_{2}-x_{3}-2x_{4}=0, \\\\\n",
    "2x_{1}+x_{2}-x_{3}+x_{4}=-2, \\\\\n",
    "x_{1}+x_{2}-3x_{3}+x_{4}=4.\n",
    "\\end{cases}$$"
   ]
  },
  {
   "cell_type": "markdown",
   "metadata": {},
   "source": [
    "##### Решение"
   ]
  },
  {
   "cell_type": "markdown",
   "metadata": {},
   "source": [
    "$\\begin{cases}\n",
    "x_{1}+x_{2}-x_{3}-2x_{4}=0 \\\\\n",
    "x_{1}+0.5x_{2}-0.5x_{3}+0.5x_{4}=-1 \\\\\n",
    "x_{1}+x_{2}-3x_{3}+x_{4}=4\n",
    "\\end{cases}$ \n",
    "$\\begin{cases}\n",
    "x_{1}+x_{2}-x_{3}-2x_{4}=0 \\\\\n",
    "0x_{1}-0.5x_{2}-1.5x_{3}-1.5x_{4}=-1 \\\\\n",
    "0x_{1}+0x_{2}-2x_{3}+3x_{4}=4\n",
    "\\end{cases}$ <br>\n",
    "$x_{4}= \\frac{2}{3}(2+x_{3})$, <br> т.е. при $x_{3}= c$: <br> \n",
    "$x_{4} = \\frac{2}{3}(2 + c)$ <br>\n",
    "из $-0.5x_{2}-1.5x_{3}-1.5x_{4}=-1$ => $x_{2}= -3x_{3}-3x_{4} + 1 = -3c - 2(2+c) +1 = -5c - 3 $ <br>\n",
    "из $x_{1}+x_{2}-x_{3}-2x_{4}=0$ => $x_{1}= -x_{2}+x_{3}+2x_{4} = 5c +3 + c + \\frac{4}{3}(2 + c) = 7\\frac{1}{3}c + 5\\frac{2}{3}$ <br>\n",
    "То есть $ X = \\begin{pmatrix}\n",
    "7\\frac{1}{3}c + 5\\frac{2}{3} \\\\\n",
    "-5c - 3 \\\\\n",
    "c \\\\\n",
    "\\frac{2}{3}(2 + c)\n",
    "\\end {pmatrix} $"
   ]
  },
  {
   "cell_type": "markdown",
   "metadata": {},
   "source": [
    "__2.__ Проверить на совместность и выяснить, сколько решений будет иметь система линейных уравнений:\n",
    "\n",
    "   а) $\\begin{cases}\n",
    "3x_{1}-x_{2}+x_{3}=4, \\\\\n",
    "2x_{1}-5x_{2}-3x_{3}=-17, \\\\\n",
    "x_{1}+x_{2}-x_{3}=0;\n",
    "\\end{cases}$\n",
    "    \n",
    "   б) $\\begin{cases}\n",
    "2x_{1}-4x_{2}+6x_{3}=1, \\\\\n",
    "x_{1}-2x_{2}+3x_{3}=-2, \\\\\n",
    "3x_{1}-6x_{2}+9x_{3}=5;\n",
    "\\end{cases}$\n",
    "    \n",
    "   в) $\\begin{cases}\n",
    "x_{1}+2x_{2}+5x_{3}=4, \\\\\n",
    "3x_{1}+x_{2}-8x_{3}=-2. \n",
    "\\end{cases}$"
   ]
  },
  {
   "cell_type": "markdown",
   "metadata": {},
   "source": [
    "##### Решение"
   ]
  },
  {
   "cell_type": "markdown",
   "metadata": {},
   "source": [
    "а) $\\begin{pmatrix}\n",
    "\\left.\\begin{matrix}\n",
    "3 & -1 & 1 \\\\\n",
    "2 & -5 & -3 \\\\\n",
    "1 & 1 & -1 \n",
    "\\end{matrix}\\right|\n",
    "\\begin{matrix}\n",
    "4 \\\\\n",
    "-17 \\\\\n",
    "0\n",
    "\\end{matrix}\n",
    "\\end{pmatrix}$ = \n",
    "$\\begin{pmatrix}\n",
    "\\left.\\begin{matrix}\n",
    "4 & 0 & 0 \\\\\n",
    "2 & -5 & -3 \\\\\n",
    "1 & 1 & -1 \n",
    "\\end{matrix}\\right|\n",
    "\\begin{matrix}\n",
    "4 \\\\\n",
    "-17 \\\\\n",
    "0\n",
    "\\end{matrix}\n",
    "\\end{pmatrix}$ =\n",
    "$\\begin{pmatrix}\n",
    "\\left.\\begin{matrix}\n",
    "1 & 1 & -1 \\\\\n",
    "2 & -5 & -3 \\\\\n",
    "4 & 0 & 0\n",
    "\\end{matrix}\\right|\n",
    "\\begin{matrix}\n",
    "0 \\\\\n",
    "-17 \\\\\n",
    "4\n",
    "\\end{matrix}\n",
    "\\end{pmatrix}$ =\n",
    "$\\begin{pmatrix}\n",
    "\\left.\\begin{matrix}\n",
    "1 & 1 & -1 \\\\\n",
    "2 & -5 & -3 \\\\\n",
    "4 & 0 & 0\n",
    "\\end{matrix}\\right|\n",
    "\\begin{matrix}\n",
    "0 \\\\\n",
    "-17 \\\\\n",
    "4\n",
    "\\end{matrix}\n",
    "\\end{pmatrix}$ = <br>\n",
    "= $\\begin{pmatrix}\n",
    "\\left.\\begin{matrix}\n",
    "1 & 1 & -1 \\\\\n",
    "-1 & -8 & 0 \\\\\n",
    "4 & 0 & 0\n",
    "\\end{matrix}\\right|\n",
    "\\begin{matrix}\n",
    "0 \\\\\n",
    "-17 \\\\\n",
    "4\n",
    "\\end{matrix}\n",
    "\\end{pmatrix}$ = \n",
    "$\\begin{pmatrix}\n",
    "\\left.\\begin{matrix}\n",
    "1 & -1 & -1\\\\\n",
    "0 & -8 & -1\\\\\n",
    "0 & 0 & 4\n",
    "\\end{matrix}\\right|\n",
    "\\begin{matrix}\n",
    "0 \\\\\n",
    "-17 \\\\\n",
    "4\n",
    "\\end{matrix}\n",
    "\\end{pmatrix}$ => совместна, 1 решение."
   ]
  },
  {
   "cell_type": "markdown",
   "metadata": {},
   "source": [
    "б) $\\begin{pmatrix}\n",
    "\\left.\\begin{matrix}\n",
    "2 & -4 & 6 \\\\\n",
    "1 & -2 & 3 \\\\\n",
    "3 & -6 & 9 \n",
    "\\end{matrix}\\right|\n",
    "\\begin{matrix}\n",
    "1 \\\\\n",
    "-2 \\\\\n",
    "5\n",
    "\\end{matrix}\n",
    "\\end{pmatrix}$ =\n",
    "$\\begin{pmatrix}\n",
    "\\left.\\begin{matrix}\n",
    "1 & -2 & 3 \\\\\n",
    "2 & -4 & 6 \\\\\n",
    "3 & -6 & 9 \n",
    "\\end{matrix}\\right|\n",
    "\\begin{matrix}\n",
    "-2 \\\\\n",
    "1 \\\\\n",
    "5\n",
    "\\end{matrix}\n",
    "\\end{pmatrix}$ =\n",
    "$\\begin{pmatrix}\n",
    "\\left.\\begin{matrix}\n",
    "1 & -2 & 3 \\\\\n",
    "0 & 0 & 0 \\\\\n",
    "0 & 0 & 0 \n",
    "\\end{matrix}\\right|\n",
    "\\begin{matrix}\n",
    "-2 \\\\\n",
    "5 \\\\\n",
    "11\n",
    "\\end{matrix}\n",
    "\\end{pmatrix}$ => система несовместна, решений нет."
   ]
  },
  {
   "cell_type": "markdown",
   "metadata": {},
   "source": [
    "в) $\\begin{pmatrix}\n",
    "\\left.\\begin{matrix}\n",
    "1 & 2 & 5 \\\\\n",
    "3 & 1 & -8 \\\\\n",
    "\\end{matrix}\\right|\n",
    "\\begin{matrix}\n",
    "4 \\\\\n",
    "-2\n",
    "\\end{matrix}\n",
    "\\end{pmatrix}$ <br>\n",
    "$\\begin{vmatrix}\n",
    "1 & 2 \\\\\n",
    "3 & 1 \\\\\n",
    "\\end{vmatrix} = -5 \\ne 0, $\n",
    "$\\begin{vmatrix}\n",
    "1 & 5 \\\\\n",
    "3 & -8 \\\\\n",
    "\\end{vmatrix} = -23 \\ne 0, $\n",
    "$\\begin{vmatrix}\n",
    "2 & 5 \\\\\n",
    "1 & -8 \\\\\n",
    "\\end{vmatrix} = -21 \\ne 0$ => $rank(A)=2, rank(B)=2$, но т.к. $n = 3$, то система неопределена, т.е. количество решений бесконечно."
   ]
  },
  {
   "cell_type": "markdown",
   "metadata": {},
   "source": [
    "###### Проверка:"
   ]
  },
  {
   "cell_type": "code",
   "execution_count": 1,
   "metadata": {},
   "outputs": [],
   "source": [
    "import numpy as np"
   ]
  },
  {
   "cell_type": "code",
   "execution_count": 2,
   "metadata": {},
   "outputs": [],
   "source": [
    "def check(A, B):\n",
    "    a_r, b_r, n = np.linalg.matrix_rank(A), np.linalg.matrix_rank(B), A.shape[1]\n",
    "    if  a_r == b_r:\n",
    "        if a_r == n:\n",
    "            print(f'Проверка совместности системы: \\nrank(A) = {a_r}, rank(B) = {b_r}, ' \n",
    "                  f'т.к. ранг матрицы = рангу расширенной матрицы = количество переменных({n}), '\n",
    "                  f'\\nто система совместна и решение одно.')\n",
    "        elif a_r < n:\n",
    "            print(f'Проверка совместности системы: \\nrank(A) = {a_r}, rank(B) = {b_r}, количество переменных = {n}, ' \n",
    "                  f'т.к. ранг матрицы = ранг расширенной матрицы < количества переменных,'\n",
    "                  f'\\nто система неопределена, т.е. количество решений бесконечно.')\n",
    "    elif a_r < b_r:\n",
    "        print(f'Проверка совместности системы: \\nrank(A) = {a_r}, rank(B) = {b_r}, ' \n",
    "              f'т.к. ранг матрицы < ранг расширенной матрицы, то система несовместна.')"
   ]
  },
  {
   "cell_type": "code",
   "execution_count": 3,
   "metadata": {},
   "outputs": [
    {
     "name": "stdout",
     "output_type": "stream",
     "text": [
      "Проверка совместности системы: \n",
      "rank(A) = 3, rank(B) = 3, т.к. ранг матрицы = рангу расширенной матрицы = количество переменных(3), \n",
      "то система совместна и решение одно.\n"
     ]
    }
   ],
   "source": [
    "A = np.array([[3, -1, 1], [2, -5, -3], [1, 1, -1]])\n",
    "B = np.array([[3, -1, 1, 4], [2, -5, -3, -17], [1, 1, -1, 0]])\n",
    "check(A, B)"
   ]
  },
  {
   "cell_type": "code",
   "execution_count": 4,
   "metadata": {},
   "outputs": [
    {
     "name": "stdout",
     "output_type": "stream",
     "text": [
      "Проверка совместности системы: \n",
      "rank(A) = 1, rank(B) = 2, т.к. ранг матрицы < ранг расширенной матрицы, то система несовместна.\n"
     ]
    }
   ],
   "source": [
    "A = np.array([[2, -4, 6], [1, -2, 3], [3, -6, 9]])\n",
    "B = np.array([[2, -4, 6, 1], [1, -2, 3, -2], [3, -6, 9, 5]])\n",
    "check(A, B)"
   ]
  },
  {
   "cell_type": "code",
   "execution_count": 5,
   "metadata": {},
   "outputs": [
    {
     "name": "stdout",
     "output_type": "stream",
     "text": [
      "Проверка совместности системы: \n",
      "rank(A) = 2, rank(B) = 2, количество переменных = 3, т.к. ранг матрицы = ранг расширенной матрицы < количества переменных,\n",
      "то система неопределена, т.е. количество решений бесконечно.\n"
     ]
    }
   ],
   "source": [
    "A = np.array([[1, 2, 5], [3, 1, -8]])\n",
    "B = np.array([[1, 2, 5, 4], [3, 1, -8, -2]])\n",
    "check(A, B)"
   ]
  },
  {
   "cell_type": "markdown",
   "metadata": {},
   "source": [
    "\n",
    "\n",
    "__3.__ Проверить на совместность и выяснить, сколько решений будет иметь система линейных уравнений, заданная расширенной матрицей\n",
    "\n",
    "$$\\tilde{A}=\\begin{pmatrix}\n",
    "\\left.\\begin{matrix}\n",
    "1 & 3 & -2 & 4\\\\ \n",
    "0 & 5 & 0 & 1\\\\ \n",
    "0 & 0 & 3 & 0\\\\ \n",
    "0 & 0 & 0 & 2\n",
    "\\end{matrix}\\right|\n",
    "\\begin{matrix}\n",
    "3\\\\ \n",
    "2\\\\\n",
    "4\\\\\n",
    "1\n",
    "\\end{matrix}\n",
    "\\end{pmatrix}.$$"
   ]
  },
  {
   "cell_type": "markdown",
   "metadata": {},
   "source": [
    "##### Решение"
   ]
  },
  {
   "cell_type": "markdown",
   "metadata": {},
   "source": [
    "$det(A) = 1\\cdot5\\cdot3\\cdot2 = 30 \\ne 0$ => матрица коэффициентов невырождена, количество неизвестных = количеству уравнений, уравнения Л.не З. => решение есть и оно единственно."
   ]
  },
  {
   "cell_type": "markdown",
   "metadata": {},
   "source": [
    "###### Проверка:"
   ]
  },
  {
   "cell_type": "code",
   "execution_count": 6,
   "metadata": {},
   "outputs": [
    {
     "name": "stdout",
     "output_type": "stream",
     "text": [
      "Проверка совместности системы: \n",
      "rank(A) = 4, rank(B) = 4, т.к. ранг матрицы = рангу расширенной матрицы = количество переменных(4), \n",
      "то система совместна и решение одно.\n"
     ]
    }
   ],
   "source": [
    "A = np.array([[1, 3, -2, 4], [0, 5, 0, 1], [0, 0, 3, 0], [0, 0, 0, 2]])\n",
    "B = np.array([[1, 3, -2, 4, 3], [0, 5, 0, 1, 2], [0, 0, 3, 0, 4], [0, 0, 0, 2, 1]])\n",
    "check(A, B)"
   ]
  },
  {
   "cell_type": "markdown",
   "metadata": {},
   "source": [
    "__4.__ Дана система линейных уравнений, заданная расширенной матрицей\n",
    "\n",
    "$$\\tilde{A}=\\begin{pmatrix}\n",
    "\\left.\\begin{matrix}\n",
    "1 & 2 & 3\\\\ \n",
    "4 & 5 & 6\\\\ \n",
    "7 & 8 & 9\n",
    "\\end{matrix}\\right|\n",
    "\\begin{matrix}\n",
    "a\\\\ \n",
    "b\\\\\n",
    "c\n",
    "\\end{matrix}\n",
    "\\end{pmatrix}.$$\n",
    "\n",
    "Найти соотношение между параметрами $a$, $b$ и $c$, при которых система является несовместной."
   ]
  },
  {
   "cell_type": "markdown",
   "metadata": {},
   "source": [
    "##### Решение"
   ]
  },
  {
   "cell_type": "markdown",
   "metadata": {},
   "source": [
    "Найдём определитель:<br>\n",
    "$\\tilde{A}=\\begin{pmatrix}\n",
    "\\left.\\begin{matrix}\n",
    "1 & 2 & 3\\\\ \n",
    "4 & 5 & 6\\\\ \n",
    "7 & 8 & 9\n",
    "\\end{matrix}\\right|\n",
    "\\begin{matrix}\n",
    "a\\\\ \n",
    "b\\\\\n",
    "c\n",
    "\\end{matrix}\n",
    "\\end{pmatrix}$ = \n",
    "$\\begin{pmatrix}\n",
    "\\left.\\begin{matrix}\n",
    "1 & 2 & 3\\\\ \n",
    "3 & 3 & 3\\\\ \n",
    "6 & 6 & 6\n",
    "\\end{matrix}\\right|\n",
    "\\begin{matrix}\n",
    "a\\\\ \n",
    "b-a\\\\\n",
    "c-a\n",
    "\\end{matrix}\n",
    "\\end{pmatrix}$"
   ]
  },
  {
   "cell_type": "markdown",
   "metadata": {},
   "source": [
    "Нерасширенная матрица имеет Л.З. 2 и 3 строки => должно выполняться равенство $b-a = 2(c-a)$ или $b=2c-a$. Невыполнение этого равенства приводит к несовместности данной системы."
   ]
  },
  {
   "cell_type": "code",
   "execution_count": null,
   "metadata": {},
   "outputs": [],
   "source": []
  }
 ],
 "metadata": {
  "kernelspec": {
   "display_name": "Python 3",
   "language": "python",
   "name": "python3"
  },
  "language_info": {
   "codemirror_mode": {
    "name": "ipython",
    "version": 3
   },
   "file_extension": ".py",
   "mimetype": "text/x-python",
   "name": "python",
   "nbconvert_exporter": "python",
   "pygments_lexer": "ipython3",
   "version": "3.7.1"
  }
 },
 "nbformat": 4,
 "nbformat_minor": 2
}
