{
 "cells": [
  {
   "cell_type": "markdown",
   "metadata": {},
   "source": [
    "__1.__ Найти собственные векторы и собственные значения для линейного оператора, заданного матрицей\n",
    "\n",
    "$$A=\\begin{pmatrix}\n",
    "-1 & -6\\\\ \n",
    "2 & 6\n",
    "\\end{pmatrix}.$$"
   ]
  },
  {
   "cell_type": "markdown",
   "metadata": {},
   "source": [
    "##### Решение"
   ]
  },
  {
   "cell_type": "markdown",
   "metadata": {},
   "source": [
    "Собственные значения: <br>\n",
    "$det(A - \\lambda I)=\\begin{vmatrix}\n",
    "-1-\\lambda & -6\\\\ \n",
    "2 & 6-\\lambda\n",
    "\\end{vmatrix} = (-1-\\lambda)(6-\\lambda)+12 = -6-6\\lambda+\\lambda+\\lambda^2+12=\\lambda^2 - 5\\lambda +6 = 0$ <br>\n",
    "$D = 5^2 - 4\\cdot6 = 1$ <br>\n",
    "$\\lambda_1 = \\frac{5 + 1}{2} = 3$ <br>\n",
    "$\\lambda_2 = \\frac{5 - 1}{2} = 2$ <br>\n",
    "Собственные вектора: <br>\n",
    "Пусть собственный вектор $x = \\begin{pmatrix}\n",
    "x_{1}\\\\ \n",
    "x_{2}\n",
    "\\end{pmatrix}$, <br>\n",
    "$Ax=\\lambda x$ <br>\n",
    "Тогда для $\\lambda_1$: <br>\n",
    "$\\begin{pmatrix}\n",
    "-1 & -6\\\\ \n",
    "2 & 6\n",
    "\\end{pmatrix}\n",
    "\\begin{pmatrix}\n",
    "x_{1}\\\\ \n",
    "x_{2}\n",
    "\\end{pmatrix} = 3 \\begin{pmatrix}\n",
    "x_{1}\\\\ \n",
    "x_{2}\n",
    "\\end{pmatrix}$ <br>\n",
    "$\\begin{cases} - x_1 - 6 x_2 = 3 x_1 \\\\\n",
    "2 x_1 + 6 x_2 = 3 x_2 \\end{cases}$ <br>\n",
    "$\\begin{cases} - 4 x_1 = 6 x_2 \\\\\n",
    "- 2 x_1 = 3 x_2 \\end{cases}$ => $x_1 = - 1.5 x_2$<br>\n",
    "Для определённости первый собственный вектор $x = \\begin{pmatrix}\n",
    "-1.5\\\\ \n",
    "1\n",
    "\\end{pmatrix}$ <br>\n",
    "Для $\\lambda_2$: <br>\n",
    "$\\begin{pmatrix}\n",
    "-1 & -6\\\\ \n",
    "2 & 6\n",
    "\\end{pmatrix}\n",
    "\\begin{pmatrix}\n",
    "x_{1}\\\\ \n",
    "x_{2}\n",
    "\\end{pmatrix} = 2 \\begin{pmatrix}\n",
    "x_{1}\\\\ \n",
    "x_{2}\n",
    "\\end{pmatrix}$ <br>\n",
    "$\\begin{cases} - x_1 - 6 x_2 = 2 x_1 \\\\\n",
    "2 x_1 + 6 x_2 = 2 x_2 \\end{cases}$ <br>\n",
    "$\\begin{cases} - 3 x_1 = 6 x_2 \\\\\n",
    "- 2 x_1 = 4 x_2 \\end{cases}$ => $x_1 = -2 x_2$<br>\n",
    "Для определённости второй собственный вектор $x = \\begin{pmatrix}\n",
    "-2\\\\ \n",
    "1\n",
    "\\end{pmatrix}$"
   ]
  },
  {
   "cell_type": "markdown",
   "metadata": {},
   "source": [
    "__2.__ Дан оператор поворота на 180 градусов, задаваемый матрицей \n",
    "\n",
    "$$A=\\begin{pmatrix}\n",
    "-1 & 0\\\\ \n",
    "0 & -1\n",
    "\\end{pmatrix}.$$\n",
    "\n",
    "Показать, что __любой__ вектор является для него собственным.\n"
   ]
  },
  {
   "cell_type": "markdown",
   "metadata": {},
   "source": [
    "##### Решение"
   ]
  },
  {
   "cell_type": "markdown",
   "metadata": {},
   "source": [
    "Пусть собственный вектор $x = \\begin{pmatrix}\n",
    "x_{1}\\\\ \n",
    "x_{2}\n",
    "\\end{pmatrix}$, тогда $Ax=\\begin{pmatrix}\n",
    "-1 & 0\\\\ \n",
    "0 & -1\n",
    "\\end{pmatrix} \\begin{pmatrix}\n",
    "x_{1}\\\\ \n",
    "x_{2}\n",
    "\\end{pmatrix} = \\lambda\\begin{pmatrix}\n",
    "x_{1}\\\\ \n",
    "x_{2}\n",
    "\\end{pmatrix}$ <br>\n",
    "Тогда доказательство сводится к определению вида $x$: <br>\n",
    "$ \\begin{cases} - x_1 = \\lambda x_1 \\\\\n",
    "- x_2 = \\lambda x_2 \\end{cases} $, что верно при $\\lambda = -1$ для любых $x_1$ и $x_2$, т.е. любой вектор размера $1 \\times 2$ является для этого оператора собственным. "
   ]
  },
  {
   "cell_type": "markdown",
   "metadata": {},
   "source": [
    "__3.__ Пусть линейный оператор задан матрицей\n",
    "\n",
    "$$A=\\begin{pmatrix}\n",
    "1 & 1\\\\ \n",
    "-1 & 3\n",
    "\\end{pmatrix}.$$\n",
    "\n",
    "Установить, является ли вектор $x=(1,1)$ собственным вектором этого линейного оператора."
   ]
  },
  {
   "cell_type": "markdown",
   "metadata": {},
   "source": [
    "##### Решение"
   ]
  },
  {
   "cell_type": "markdown",
   "metadata": {},
   "source": [
    "Если это собственный вектор, тогда для него верно утверждение:\n",
    "$Ax=\\begin{pmatrix}\n",
    "1 & 1\\\\ \n",
    "-1 & 3\n",
    "\\end{pmatrix} \n",
    "\\begin{pmatrix}\n",
    "1 \\\\ \n",
    "1 \n",
    "\\end{pmatrix} = \n",
    "\\lambda \\begin{pmatrix}\n",
    "1 \\\\ \n",
    "1 \n",
    "\\end{pmatrix}$ <br>\n",
    "$ \\begin {cases}\n",
    "1 + 1 = \\lambda \\\\\n",
    "-1 + 3 = \\lambda \\end{cases}$ <br>\n",
    "Эта система разрешима и имеет единственное решение $\\lambda = 2$ => $x=(1,1)$ собственный вектор линейного оператора."
   ]
  },
  {
   "cell_type": "markdown",
   "metadata": {},
   "source": [
    "__4.__ Пусть линейный оператор задан матрицей\n",
    "\n",
    "$$A=\\begin{pmatrix}\n",
    "0 & 3 & 0\\\\ \n",
    "3 & 0 & 0\\\\\n",
    "0 & 0 & 3\n",
    "\\end{pmatrix}.$$\n",
    "\n",
    "Установить, является ли вектор $x=(3, -3, -4)$ собственным вектором этого линейного оператора."
   ]
  },
  {
   "cell_type": "markdown",
   "metadata": {},
   "source": [
    "##### Решение"
   ]
  },
  {
   "cell_type": "markdown",
   "metadata": {},
   "source": [
    "Если это собственный вектор, тогда для него верно утверждение:\n",
    "$Ax=\\begin{pmatrix}\n",
    "0 & 3 & 0\\\\ \n",
    "3 & 0 & 0\\\\\n",
    "0 & 0 & 3\n",
    "\\end{pmatrix}\n",
    "\\begin{pmatrix}\n",
    "3 \\\\ \n",
    "-3 \\\\\n",
    "-4\n",
    "\\end{pmatrix} = \n",
    "\\lambda \\begin{pmatrix}\n",
    "3 \\\\ \n",
    "-3 \\\\\n",
    "-4\n",
    "\\end{pmatrix}$ <br>\n",
    "$ \\begin {cases}\n",
    "-9 = 3\\lambda \\\\\n",
    "9 = -3 \\lambda \\\\\n",
    "-12 = -4 \\lambda\n",
    "\\end{cases}$ => \n",
    "$ \\begin {cases}\n",
    "\\lambda = -3\\\\\n",
    "\\lambda = -3\\\\\n",
    "\\lambda = 3\n",
    "\\end{cases}$<br>\n",
    "Эта система не разрешима относительно $\\lambda$ => $x=(3,-3,-4)$ не является собственным вектором линейного оператора."
   ]
  },
  {
   "cell_type": "code",
   "execution_count": null,
   "metadata": {},
   "outputs": [],
   "source": []
  }
 ],
 "metadata": {
  "kernelspec": {
   "display_name": "Python 3",
   "language": "python",
   "name": "python3"
  },
  "language_info": {
   "codemirror_mode": {
    "name": "ipython",
    "version": 3
   },
   "file_extension": ".py",
   "mimetype": "text/x-python",
   "name": "python",
   "nbconvert_exporter": "python",
   "pygments_lexer": "ipython3",
   "version": "3.7.1"
  }
 },
 "nbformat": 4,
 "nbformat_minor": 2
}
