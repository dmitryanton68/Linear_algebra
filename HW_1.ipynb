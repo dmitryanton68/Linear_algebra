{
 "cells": [
  {
   "cell_type": "markdown",
   "metadata": {},
   "source": [
    "### Первая часть"
   ]
  },
  {
   "cell_type": "markdown",
   "metadata": {},
   "source": [
    "__1.__ Исследовать на линейную зависимость:\n",
    "$$f_{1}(x)=e^{x}, f_{2}(x)=1, f_{3}(x)=x+1, f_{4}(x)=x-e^{x}.$$"
   ]
  },
  {
   "cell_type": "markdown",
   "metadata": {},
   "source": [
    "#### Решение."
   ]
  },
  {
   "cell_type": "markdown",
   "metadata": {},
   "source": [
    "$f_{4}(x)=f_{3}(x)-f_{2}(x)-f_{1}(x).$ \n",
    "_Т.к. одна функция выражается как линейная комбинация остальных => система векторов линейно зависима_"
   ]
  },
  {
   "cell_type": "markdown",
   "metadata": {},
   "source": [
    "__2.__ Исследовать на линейную зависимость:\n",
    "$$f_{1}(x)=2, f_{2}(x)=x, f_{3}(x)=x^{2}, f_{4}(x)=(x+1)^{2}.$$"
   ]
  },
  {
   "cell_type": "markdown",
   "metadata": {},
   "source": [
    "#### Решение."
   ]
  },
  {
   "cell_type": "markdown",
   "metadata": {},
   "source": [
    "$f_{4}(x)=x^2 + 2x + 1 = f_{3}(x) + 2f_{2}(x) + 0.5f_{1}(x). $ \n",
    "_Т.к. одна функция выражается как линейная комбинация остальных => система векторов линейно зависима_"
   ]
  },
  {
   "cell_type": "markdown",
   "metadata": {},
   "source": [
    "__3.__ Найти координаты вектора $x = (2, 3, 5)\\in \\mathbb{R}^{3}$ в базисе $b_{1}=(0, 0, 10)$, $b_{2}=(2, 0, 0)$, $b_{3}=(0, 1, 0)$."
   ]
  },
  {
   "cell_type": "markdown",
   "metadata": {},
   "source": [
    "#### Решение."
   ]
  },
  {
   "cell_type": "markdown",
   "metadata": {},
   "source": [
    "$ x = 1 \\cdot b_{2} + 3 \\cdot b_{3} + 0.5 \\cdot b_{1} $, _т.е. $x = (0.5, 1, 3)$ в базисе $(b_{1}, b_{2}, b_{3})$_ "
   ]
  },
  {
   "cell_type": "markdown",
   "metadata": {},
   "source": [
    "__4.__ Найти координаты вектора $3x^{2}-2x+2\\in\\mathbb{R}^{3}[x]$:\n",
    "\n",
    "   а) в базисе $1$, $x$, $x^{2}$;\n",
    "\n",
    "   б) в базисе $x^{2}$, $x-1$, $1$."
   ]
  },
  {
   "cell_type": "markdown",
   "metadata": {},
   "source": [
    "#### Решение."
   ]
  },
  {
   "cell_type": "markdown",
   "metadata": {},
   "source": [
    "_a)_ $(2, -2, 3)$"
   ]
  },
  {
   "cell_type": "markdown",
   "metadata": {},
   "source": [
    "_б)_ $(3, -2, 0)$"
   ]
  },
  {
   "cell_type": "markdown",
   "metadata": {},
   "source": [
    "__5.__ Установить, является ли линейным подпространством:\n",
    "\n",
    "а) совокупность всех векторов трехмерного пространства, у которых по крайней мере одна из первых двух координат равна нулю;\n",
    "    \n",
    "б) все векторы, являющиеся линейными комбинациями данных векторов $\\{u_{1}, u_{2}, ..., u_{n}\\}$."
   ]
  },
  {
   "cell_type": "markdown",
   "metadata": {},
   "source": [
    "#### Решение."
   ]
  },
  {
   "cell_type": "markdown",
   "metadata": {},
   "source": [
    "_а)_ Т.е. требуется исследовать систему векторов такую, что координатами любых $a$ и $b$ из этой системы могут быть следующие варианты: \n",
    "$$1. a = (0, \\alpha, \\beta), b = (0, \\gamma, \\delta)$$\n",
    "$$2. a = (0, 0, \\beta), b = (0, \\gamma, \\delta)$$\n",
    "$$3. a = (0, \\alpha, \\beta), b = (0, 0, \\delta)$$\n",
    "$$4. a = (0, 0, \\beta), b = (0, 0, \\delta)$$\n",
    "$$5. a = (\\alpha, 0, \\beta), b = (0, \\gamma, \\delta)$$\n",
    "$$6. a = (0, \\alpha, \\beta), b = (\\gamma, 0, \\delta)$$"
   ]
  },
  {
   "cell_type": "markdown",
   "metadata": {},
   "source": [
    "Проверим эти варианты на операции сложения и умножения на скаляр:\n",
    "$$ 1. a+b = (0, \\alpha+\\gamma, \\beta+\\delta), k\\cdot a =  (0, k\\alpha, k\\beta),$$\n",
    "аналогично var. 2, 3, 4, но в var.5, 6:\n",
    "$$ 5. a+b = (\\alpha, \\gamma, \\beta+\\delta),  k\\cdot a =  (k\\alpha, 0, k\\beta),$$\n",
    "т.е. результат сложения векторов не всегда будет принадлежать этому подпространству => совокупность всех векторов трехмерного пространства, у которых по крайней мере одна из первых двух координат равна нулю _не является линейным подпространством._"
   ]
  },
  {
   "cell_type": "markdown",
   "metadata": {},
   "source": [
    "_б)_ по отношению ко всем векторам, являющимся линейными комбинациями данных векторов $\\{u_{1}, u_{2}, ..., u_{n}\\}$ будут существовать варианты, аналогичные var.5, 6 из пп._а)_, т.е. они также _не являются линейным подпространством._"
   ]
  },
  {
   "cell_type": "markdown",
   "metadata": {},
   "source": [
    "### Вторая часть"
   ]
  },
  {
   "cell_type": "markdown",
   "metadata": {},
   "source": [
    "__1.__ Найти скалярное произведение векторов $x, y \\in \\mathbb{R}$:<br>\n",
    "а) $x=(0,-3, 6),~y=(-4, 7, 9);$<br>\n",
    "б) $x=(7, -4, 0, 1),~y=(-3, 1, 11, 2).$"
   ]
  },
  {
   "cell_type": "markdown",
   "metadata": {},
   "source": [
    "#### Решение."
   ]
  },
  {
   "cell_type": "markdown",
   "metadata": {},
   "source": [
    "_a)_"
   ]
  },
  {
   "cell_type": "code",
   "execution_count": 1,
   "metadata": {},
   "outputs": [],
   "source": [
    "import numpy as np\n",
    "from numpy.linalg import norm"
   ]
  },
  {
   "cell_type": "code",
   "execution_count": 2,
   "metadata": {},
   "outputs": [
    {
     "name": "stdout",
     "output_type": "stream",
     "text": [
      "Скалярное произведение x и y = 33\n"
     ]
    }
   ],
   "source": [
    "x = np.array([0, -3, 6])\n",
    "y = np.array([-4, 7, 9])\n",
    "print(f'Скалярное произведение x и y = {x.dot(y)}')"
   ]
  },
  {
   "cell_type": "markdown",
   "metadata": {},
   "source": [
    "_б)_"
   ]
  },
  {
   "cell_type": "code",
   "execution_count": 3,
   "metadata": {},
   "outputs": [
    {
     "name": "stdout",
     "output_type": "stream",
     "text": [
      "Скалярное произведение x и y = -23\n"
     ]
    }
   ],
   "source": [
    "x = np.array([7, -4, 0, 1])\n",
    "y = np.array([-3, 1, 11, 2])\n",
    "print(f'Скалярное произведение x и y = {x.dot(y)}')"
   ]
  },
  {
   "cell_type": "markdown",
   "metadata": {},
   "source": [
    "__2.__ Найти нормы векторов $(4, 2, 4)$ и $(12, 3, 4)$ и угол между ними."
   ]
  },
  {
   "cell_type": "markdown",
   "metadata": {},
   "source": [
    "#### Решение."
   ]
  },
  {
   "cell_type": "code",
   "execution_count": 4,
   "metadata": {},
   "outputs": [
    {
     "data": {
      "text/plain": [
       "(6.0, 13.0)"
      ]
     },
     "execution_count": 4,
     "metadata": {},
     "output_type": "execute_result"
    }
   ],
   "source": [
    "a = np.array([4, 2, 4])  \n",
    "b = np.array([12, 3, 4])\n",
    "norm(a), norm(b)"
   ]
  },
  {
   "cell_type": "code",
   "execution_count": 5,
   "metadata": {},
   "outputs": [
    {
     "name": "stdout",
     "output_type": "stream",
     "text": [
      "psi = 26.177 deg\n"
     ]
    }
   ],
   "source": [
    "psi = np.arccos(a.dot(b)/(norm(a)*norm(b)))\n",
    "print(f'psi = {psi/(np.pi)*180:.3f} deg')"
   ]
  },
  {
   "cell_type": "markdown",
   "metadata": {},
   "source": [
    "__3.__ Будет ли линейное пространство евклидовым, если за скалярное произведение принять:<br>\n",
    "а) произведение длин векторов;<br>\n",
    "б) утроенное обычное скалярное произведение векторов?"
   ]
  },
  {
   "cell_type": "markdown",
   "metadata": {},
   "source": [
    "#### Решение."
   ]
  },
  {
   "cell_type": "markdown",
   "metadata": {},
   "source": [
    "Скалярное произведение евклидова пространства должно подчиняться четырем аксиомам:<br>\n",
    "1) $(x,y)=(y,x);$<br>\n",
    "2) $(\\lambda x, y)=\\lambda(x, y);$<br>\n",
    "3) $(x_{1}+x_{2},y)=(x_{1},y)+(x_{2},y);$<br>\n",
    "4) $(x, x)\\geq0$, причем $(x,x)=0\\Leftrightarrow x=0.$<br>\n",
    "Заметим, что из 3 аксиомы следует: <br>\n",
    "$\\left|x_{1}\\right|cos\\alpha_{1}+\\left|x_{2}\\right|cos\\alpha_{2}=\\left|x_{1}+x_{2}\\right|cos\\alpha$"
   ]
  },
  {
   "cell_type": "markdown",
   "metadata": {},
   "source": [
    "_а)_ Проверим, выполняются ли эти аксиомы, если $(x, y) = \\left|x\\right|\\cdot\\left|y\\right| $"
   ]
  },
  {
   "cell_type": "markdown",
   "metadata": {},
   "source": [
    "1) $\\left|x\\right|\\cdot\\left|y\\right| = \\left|y\\right|\\cdot\\left|x\\right|$ - выполняется<br>\n",
    "2) $(\\lambda \\cdot \\left|x\\right|)\\cdot\\left|y\\right|= \\lambda \\cdot (\\left|x\\right|\\cdot\\left|y\\right|)$  - выполняется<br>\n",
    "3) $\\left|x_{1}\\right|\\cdot\\left|y\\right| + \\left|x_{2}\\right|\\cdot\\left|y\\right|= (\\left|x_{1}\\right|+\\left|x_{2}\\right|)\\cdot\\left|y\\right|$, <br> \n",
    "но $\\left|x_{1}\\right| + \\left|x_{2}\\right| \\geq \\left|x_{1}+x_{2}\\right|$, так как $(\\sqrt{\\sum_{i}|x_{1i}|^{2}}+\\sqrt{\\sum_{i}|x_{2i}|^{2}}) \\geq \\sqrt{\\sum_{i}|x_{1i}+x_{2i}|^{2}}|$ => <br> $(x_{1}+x_{2},y)\\leq(x_{1},y)+(x_{2},y)$, то есть 3 аксиома не выполняется<br>\n",
    "4) $(x, x)\\geq0$, причем $(x,x)=0\\Leftrightarrow x=0$ - выполняется<br>\n",
    "Так как 3 аксиома не выполняется => если за скалярное произведение принять произведение длин векторов, то _линейное пространство не будет евклидовым._"
   ]
  },
  {
   "cell_type": "markdown",
   "metadata": {},
   "source": [
    "_б)_ Проверим, выполняются ли эти аксиомы, если $(x, y) = 3 \\cdot \\left|x\\right|\\cdot\\left|y\\right|cos\\alpha.$"
   ]
  },
  {
   "cell_type": "markdown",
   "metadata": {},
   "source": [
    "1) $(x,y)=(y,x)$  - выполняется<br>\n",
    "2) $(\\lambda x, y)=\\lambda(x, y)$  - выполняется<br>\n",
    "3) $(x_{1},y)+(x_{2},y)=3 \\cdot \\left|x_{1}\\right|\\cdot\\left|y\\right|cos\\alpha_{1} +3 \\cdot \\left|x_{2}\\right|\\cdot\\left|y\\right|cos\\alpha_{2}=3(\\left|x_{1}\\right|cos\\alpha_{1}+\\left|x_{2}\\right|cos\\alpha_{2})\\left|y\\right|= 3\\cdot(\\left|x_{1}+x_{2}\\right|cos\\alpha)\\left|y\\right|= (x_{1}+x_{2},y) $  - выполняется<br>\n",
    "4) $(x, x)\\geq0$, причем $(x,x)=0\\Leftrightarrow x=0$   - выполняется<br>\n",
    "Аксиомы выполняются => если за скалярное произведение принять утроенное обычное скалярное произведение векторов, то _линейное пространство будет евклидовым._"
   ]
  },
  {
   "cell_type": "markdown",
   "metadata": {},
   "source": [
    "__4.__ Какие из нижеперечисленных векторов образуют ортонормированный базис в линейном пространстве $\\mathbb{R}^{3}$:<br>\n",
    "а) $(1,0,0),(0,0,1);$ <br>\n",
    "б) $(1/\\sqrt{2},-1/\\sqrt{2},0),(1/\\sqrt{2},1/\\sqrt{2},0), (0,0,1);$<br>\n",
    "в) $(1/2, -1/2, 0), (0, 1/2, 1/2), (0,0,1);$<br>\n",
    "г) $(1,0,0),(0,1,0),(0,0,1)?$ "
   ]
  },
  {
   "cell_type": "markdown",
   "metadata": {},
   "source": [
    "#### Решение."
   ]
  },
  {
   "cell_type": "markdown",
   "metadata": {},
   "source": [
    "_а)_ $(1,0,0),(0,0,1)$ в 3-мерном линейном пространстве $\\mathbb{R}^{3}$ базисом не являются, т.к. базис должен содержать 3 вектора."
   ]
  },
  {
   "cell_type": "markdown",
   "metadata": {},
   "source": [
    "_б)_ $(1/\\sqrt{2},-1/\\sqrt{2},0),(1/\\sqrt{2},1/\\sqrt{2},0), (0,0,1)$ в 3-мерном линейном пространстве $\\mathbb{R}^{3}$ являются ортонормированным базисом, т.к.: "
   ]
  },
  {
   "cell_type": "code",
   "execution_count": 6,
   "metadata": {},
   "outputs": [
    {
     "data": {
      "text/plain": [
       "(0.9999999999999999, 0.9999999999999999, 1.0)"
      ]
     },
     "execution_count": 6,
     "metadata": {},
     "output_type": "execute_result"
    }
   ],
   "source": [
    "e_1 = np.array([1/np.sqrt(2), -1/np.sqrt(2), 0])  \n",
    "e_2 = np.array([1/np.sqrt(2), 1/np.sqrt(2), 0])\n",
    "e_3 = np.array([0, 0, 1])\n",
    "norm(e_1), norm(e_2), norm(e_3)"
   ]
  },
  {
   "cell_type": "code",
   "execution_count": 7,
   "metadata": {},
   "outputs": [
    {
     "data": {
      "text/plain": [
       "(0.0, 0.0, 0.0)"
      ]
     },
     "execution_count": 7,
     "metadata": {},
     "output_type": "execute_result"
    }
   ],
   "source": [
    "e_1.dot(e_2), e_1.dot(e_3), e_2.dot(e_3)"
   ]
  },
  {
   "cell_type": "markdown",
   "metadata": {},
   "source": [
    "_в)_ $(1/2, -1/2, 0), (0, 1/2, 1/2), (0,0,1)$ в 3-мерном линейном пространстве $\\mathbb{R}^{3}$ не являются ортонормированным базисом, т.к.: "
   ]
  },
  {
   "cell_type": "code",
   "execution_count": 8,
   "metadata": {},
   "outputs": [
    {
     "data": {
      "text/plain": [
       "(0.7071067811865476, 0.7071067811865476, 1.0)"
      ]
     },
     "execution_count": 8,
     "metadata": {},
     "output_type": "execute_result"
    }
   ],
   "source": [
    "e_1 = np.array([1/2, -1/2, 0])  \n",
    "e_2 = np.array([0, 1/2, 1/2])\n",
    "e_3 = np.array([0, 0, 1])\n",
    "norm(e_1), norm(e_2), norm(e_3)"
   ]
  },
  {
   "cell_type": "code",
   "execution_count": 9,
   "metadata": {},
   "outputs": [
    {
     "data": {
      "text/plain": [
       "(-0.25, 0.0, 0.5)"
      ]
     },
     "execution_count": 9,
     "metadata": {},
     "output_type": "execute_result"
    }
   ],
   "source": [
    "e_1.dot(e_2), e_1.dot(e_3), e_2.dot(e_3)"
   ]
  },
  {
   "cell_type": "markdown",
   "metadata": {},
   "source": [
    "_г)_ $(1,0,0),(0,1,0),(0,0,1)$ в 3-мерном линейном пространстве $\\mathbb{R}^{3}$ являются ортонормированным базисом, т.к.: "
   ]
  },
  {
   "cell_type": "code",
   "execution_count": 10,
   "metadata": {},
   "outputs": [
    {
     "data": {
      "text/plain": [
       "(1.0, 1.0, 1.0)"
      ]
     },
     "execution_count": 10,
     "metadata": {},
     "output_type": "execute_result"
    }
   ],
   "source": [
    "e_1 = np.array([1, 0, 0])  \n",
    "e_2 = np.array([0, 1, 0])\n",
    "e_3 = np.array([0, 0, 1])\n",
    "norm(e_1), norm(e_2), norm(e_3)"
   ]
  },
  {
   "cell_type": "code",
   "execution_count": 11,
   "metadata": {},
   "outputs": [
    {
     "data": {
      "text/plain": [
       "(0, 0, 0)"
      ]
     },
     "execution_count": 11,
     "metadata": {},
     "output_type": "execute_result"
    }
   ],
   "source": [
    "e_1.dot(e_2), e_1.dot(e_3), e_2.dot(e_3)"
   ]
  },
  {
   "cell_type": "code",
   "execution_count": null,
   "metadata": {},
   "outputs": [],
   "source": []
  }
 ],
 "metadata": {
  "kernelspec": {
   "display_name": "Python 3",
   "language": "python",
   "name": "python3"
  },
  "language_info": {
   "codemirror_mode": {
    "name": "ipython",
    "version": 3
   },
   "file_extension": ".py",
   "mimetype": "text/x-python",
   "name": "python",
   "nbconvert_exporter": "python",
   "pygments_lexer": "ipython3",
   "version": "3.7.1"
  }
 },
 "nbformat": 4,
 "nbformat_minor": 2
}
